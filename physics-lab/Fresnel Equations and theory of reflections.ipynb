{
 "cells": [
  {
   "cell_type": "code",
   "execution_count": 8,
   "metadata": {},
   "outputs": [
    {
     "data": {
      "image/png": "[encoded data removed]",
      "text/plain": [
       "<Figure size 432x288 with 1 Axes>"
      ]
     },
     "metadata": {
      "needs_background": "light"
     },
     "output_type": "display_data"
    },
    {
     "data": {
      "text/plain": [
       "<Figure size 4320x4320 with 0 Axes>"
      ]
     },
     "metadata": {},
     "output_type": "display_data"
    }
   ],
   "source": [
    "import numpy as np\n",
    "from matplotlib import pyplot as plt\n",
    "%matplotlib inline\n",
    "from scipy.constants import k,e #in SI\n",
    "import scipy.optimize as opt\n",
    "\n",
    "\n",
    "(fig, graph) = plt.subplots()\n",
    "plt.figure(figsize=(60, 60))\n",
    "plt.style.use('seaborn-bright')\n",
    "\n",
    "data_points1 = np.array([\n",
    "    #d(cm)  #B(mT)\n",
    "    [ 10,   65.5 ],\n",
    "    [ 15,   71.2 ],\n",
    "    [ 20,   75.2 ],\n",
    "    [ 25,   88.7 ],\n",
    "    [ 30,   90.3 ],\n",
    "    [ 35,  102.6 ],\n",
    "    [ 40,  116.5 ],\n",
    "    [ 45,  142.7 ],\n",
    "    [ 50,  168.9 ],\n",
    "    [ 55,  193.0 ],\n",
    "    [ 60,  237.0 ],\n",
    "    [ 65,  277.0 ],\n",
    "    [ 70,  296.0 ],\n",
    "    [ 75,  315.0 ],\n",
    "#     [ 80,   0.18 ],\n",
    "#     [ 85,   0.12 ],\n",
    "#     [ 90,   0.08 ]\n",
    "])\n",
    "\n",
    "\n",
    "data_points2 = np.array([\n",
    "    #d(cm)  #B(mT)\n",
    "    [ 10,   67.7 ],\n",
    "    [ 15,   58.5 ],\n",
    "    [ 20,   50.2 ],\n",
    "    [ 25,   47.9 ],\n",
    "    [ 30,   35.7 ],\n",
    "    [ 35,   27.6 ],\n",
    "    [ 40,   19.0 ],\n",
    "    [ 45,   11.4 ],\n",
    "    [ 50,    4.2 ],\n",
    "    [ 55,    0.4 ],\n",
    "    [ 60,    3.2 ],\n",
    "    [ 65,   37.1 ],\n",
    "    [ 70,   82.5 ],\n",
    "    [ 75,  222.0 ],\n",
    "    [ 80,  293.0 ]\n",
    "])\n",
    "\n",
    "x1, y1 = data_points1.T\n",
    "x2, y2 = data_points2.T\n",
    "\n",
    "y1 = [(y/448)**(1/2) for y in y1]\n",
    "y2 = [(y/875)**(1/2) for y in y2]"
   ]
  },
  {
   "cell_type": "code",
   "execution_count": 9,
   "metadata": {},
   "outputs": [
    {
     "name": "stdout",
     "output_type": "stream",
     "text": [
      "slope =  0.001483938799290811 line =  [7.22642522e-05 1.48393880e-03 3.53685763e-01]\n"
     ]
    }
   ],
   "source": [
    "line = np.polyfit(x1, y1, 2)\n",
    "print(\"slope = \", line[1], \"line = \", line)"
   ]
  },
  {
   "cell_type": "code",
   "execution_count": 10,
   "metadata": {},
   "outputs": [
    {
     "data": {
      "image/png": "[encoded data removed]",
      "text/plain": [
       "<Figure size 432x288 with 1 Axes>"
      ]
     },
     "execution_count": 10,
     "metadata": {},
     "output_type": "execute_result"
    }
   ],
   "source": [
    "graph.plot(x1, y1, \"C0.\", label=\"Vertical Orientation\")\n",
    "graph.plot(x2, y2, \"C2x\", label=\"Horizontal Orientation\")\n",
    "# graph.plot(x, x*line[0] + line[1], \"C2\", label=\"Least Square Line\")\n",
    "graph.grid()\n",
    "graph.set(title='Coefficients of reflection as a function of the angle of incidence',\n",
    "       ylabel='Square root of Coefficient of reflection',\n",
    "       xlabel='Angle of Incidence'\n",
    ")\n",
    "graph.legend()\n",
    "\n",
    "fig.savefig('Fresnel-Equations-and-theory-of-reflections.png', dpi = 300)\n",
    "fig"
   ]
  }
 ],
 "metadata": {
  "kernelspec": {
   "display_name": "Python 3",
   "language": "python",
   "name": "python3"
  },
  "language_info": {
   "codemirror_mode": {
    "name": "ipython",
    "version": 3
   },
   "file_extension": ".py",
   "mimetype": "text/x-python",
   "name": "python",
   "nbconvert_exporter": "python",
   "pygments_lexer": "ipython3",
   "version": "3.6.8"
  }
 },
 "nbformat": 4,
 "nbformat_minor": 2
}
