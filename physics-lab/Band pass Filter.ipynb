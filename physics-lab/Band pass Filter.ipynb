{
 "cells": [
  {
   "cell_type": "code",
   "execution_count": 5,
   "metadata": {},
   "outputs": [
    {
     "data": {
      "image/png": "[encoded data removed]",
      "text/plain": [
       "<Figure size 432x288 with 1 Axes>"
      ]
     },
     "metadata": {
      "needs_background": "light"
     },
     "output_type": "display_data"
    }
   ],
   "source": [
    "import numpy as np\n",
    "from matplotlib import pyplot as plt\n",
    "from scipy.constants import k,e #in SI\n",
    "fig, graph = plt.subplots()\n",
    "\n",
    "data_points = np.array([\n",
    "    [100, 0.28],\n",
    "    [300, 0.96],\n",
    "    [500, 1.56],\n",
    "    [750, 2.13],\n",
    "    [1000,2.42],\n",
    "    [1500,2.84],\n",
    "    [2e3, 3.23],\n",
    "    [2.5e3, 3.11],\n",
    "    [3e3, 2.85],\n",
    "    [5e3, 2.30],\n",
    "    [6e3, 2.17],\n",
    "    [8e3, 1.96],\n",
    "    [10e3, 1.46],\n",
    "    [14e3, 1.35],\n",
    "    [15e3, 1.12],\n",
    "    [18e3, 0.98],\n",
    "    [22e3, 0.85],\n",
    "    [25e3, 0.63],\n",
    "    [30e3, 0.36]\n",
    "])\n",
    "\n",
    "x, y = data_points.T"
   ]
  },
  {
   "cell_type": "code",
   "execution_count": 6,
   "metadata": {},
   "outputs": [
    {
     "data": {
      "image/png": "[encoded data removed]",
      "text/plain": [
       "<Figure size 432x288 with 1 Axes>"
      ]
     },
     "execution_count": 6,
     "metadata": {},
     "output_type": "execute_result"
    }
   ],
   "source": [
    "graph.semilogx(x, y, 'b+')\n",
    "graph.grid()\n",
    "graph.set(\n",
    "    xlabel = \"Frequency (Hz)\",\n",
    "    ylabel = \"Gain\",\n",
    "    title  = \"Band pass filter\"\n",
    ")\n",
    "\n",
    "fig.savefig('bandpassfilter.png', dpi = 300)\n",
    "fig"
   ]
  }
 ],
 "metadata": {
  "kernelspec": {
   "display_name": "Python 3",
   "language": "python",
   "name": "python3"
  },
  "language_info": {
   "codemirror_mode": {
    "name": "ipython",
    "version": 3
   },
   "file_extension": ".py",
   "mimetype": "text/x-python",
   "name": "python",
   "nbconvert_exporter": "python",
   "pygments_lexer": "ipython3",
   "version": "3.6.8"
  }
 },
 "nbformat": 4,
 "nbformat_minor": 2
}
