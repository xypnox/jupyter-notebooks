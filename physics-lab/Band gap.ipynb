{
 "cells": [
  {
   "cell_type": "code",
   "execution_count": 7,
   "metadata": {},
   "outputs": [
    {
     "data": {
      "image/png": "[encoded data removed]",
      "text/plain": [
       "<Figure size 432x288 with 1 Axes>"
      ]
     },
     "metadata": {},
     "output_type": "display_data"
    }
   ],
   "source": [
    "import numpy as np\n",
    "from matplotlib import pyplot as plt\n",
    "from scipy.constants import k,e #in SI\n",
    "fig, graph = plt.subplots()\n",
    "\n",
    "data_points = np.array([\n",
    "     #T(K) #V(V)\n",
    "    [300,  0.207],\n",
    "    [310,  0.209],\n",
    "    [320,  0.197],\n",
    "    [330,  0.178],\n",
    "    [340,  0.1465],\n",
    "    [350,  0.1155],\n",
    "    [360,  0.089],\n",
    "    [370,  0.070],\n",
    "    [380,  0.053],\n",
    "    [390,  0.0405],\n",
    "    [400,  0.0325],\n",
    "    [410,  0.026]\n",
    "])\n",
    "\n",
    "i  = 0.005   #mA\n",
    "s  = 0.002   #mm\n",
    "w  = 0.0005  #mm\n",
    "g7 = 5.545\n",
    "x, y = data_points.T"
   ]
  },
  {
   "cell_type": "code",
   "execution_count": 8,
   "metadata": {},
   "outputs": [],
   "source": [
    "rho0 = y*(2*np.pi*s)/i\n",
    "rho  = rho0/g7\n",
    "Tinv = 1/x\n"
   ]
  },
  {
   "cell_type": "code",
   "execution_count": 9,
   "metadata": {},
   "outputs": [
    {
     "name": "stdout",
     "output_type": "stream",
     "text": [
      "slope =  3607.1836146226\n"
     ]
    }
   ],
   "source": [
    "line = np.polyfit(Tinv[5:], np.log(rho[5:]), 1)\n",
    "print(\"slope = \", line[0])"
   ]
  },
  {
   "cell_type": "code",
   "execution_count": 10,
   "metadata": {},
   "outputs": [
    {
     "data": {
      "image/png": "[encoded data removed]",
      "text/plain": [
       "<Figure size 432x288 with 1 Axes>"
      ]
     },
     "execution_count": 10,
     "metadata": {},
     "output_type": "execute_result"
    }
   ],
   "source": [
    "def lineeqn(xo):\n",
    "    return line[0]*xo + line[1]\n",
    "\n",
    "graph.plot(Tinv, np.log(rho), 'o')\n",
    "graph.plot(Tinv[5:], lineeqn(Tinv[5:]))\n",
    "graph.annotate(\n",
    "    \"m = %.3f\" %line[0],\n",
    "    xy=(1/x[5],lineeqn(1/x[5])),\n",
    "    xytext=(0.00278, -4.25)\n",
    ")\n",
    "graph.grid()\n",
    "graph.set(\n",
    "    xlabel = \"1/T (1/K)\",\n",
    "    ylabel = \"ln(rho)\",\n",
    "    title  = \"Graph of Vs 1/T vs ln(rho)\"\n",
    ")\n",
    "\n",
    "fig.savefig('final_graphxx.png', dpi = 300)\n",
    "fig"
   ]
  },
  {
   "cell_type": "code",
   "execution_count": 11,
   "metadata": {
    "scrolled": false
   },
   "outputs": [
    {
     "data": {
      "text/plain": [
       "'Eg (in eV) = 0.6217'"
      ]
     },
     "execution_count": 11,
     "metadata": {},
     "output_type": "execute_result"
    }
   ],
   "source": [
    "Eg = line[0]*2*k\n",
    "\"Eg (in eV) = %.4f\" % (Eg/e)"
   ]
  }
 ],
 "metadata": {
  "kernelspec": {
   "display_name": "Python 3",
   "language": "python",
   "name": "python3"
  },
  "language_info": {
   "codemirror_mode": {
    "name": "ipython",
    "version": 3
   },
   "file_extension": ".py",
   "mimetype": "text/x-python",
   "name": "python",
   "nbconvert_exporter": "python",
   "pygments_lexer": "ipython3",
   "version": "3.6.5"
  }
 },
 "nbformat": 4,
 "nbformat_minor": 2
}
