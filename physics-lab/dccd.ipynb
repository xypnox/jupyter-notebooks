{
 "cells": [
  {
   "cell_type": "code",
   "execution_count": 30,
   "metadata": {},
   "outputs": [
    {
     "data": {
      "image/png": "[encoded data removed]",
      "text/plain": [
       "<Figure size 432x288 with 1 Axes>"
      ]
     },
     "metadata": {
      "needs_background": "light"
     },
     "output_type": "display_data"
    },
    {
     "data": {
      "text/plain": [
       "<Figure size 4320x4320 with 0 Axes>"
      ]
     },
     "metadata": {},
     "output_type": "display_data"
    }
   ],
   "source": [
    "import numpy as np\n",
    "from matplotlib import pyplot as plt\n",
    "%matplotlib inline\n",
    "from scipy.constants import k,e #in SI\n",
    "import scipy.optimize as opt\n",
    "\n",
    "\n",
    "(fig, graph) = plt.subplots()\n",
    "plt.figure(figsize=(60, 60))\n",
    "plt.style.use('seaborn-bright')\n",
    "\n",
    "data_points = np.array([\n",
    "    #d(cm)  #B(mT)\n",
    "    [  1,   0.10 ],\n",
    "    [  2,   0.11 ],\n",
    "    [  3,   0.13 ],\n",
    "    [  4,   0.20 ],\n",
    "    [  5,   0.31 ],\n",
    "    [  6,   0.65 ],\n",
    "#     [ -1,   0.06 ],\n",
    "    [  8,   1.05 ],\n",
    "    [  9,   0.66 ],\n",
    "    [ 10,   0.52 ],\n",
    "    [ 11,   0.51 ],\n",
    "    [ 12,   0.60 ],\n",
    "    [ 13,   0.91 ],\n",
    "#     [  6,   0.01 ],\n",
    "    [ 15,   0.59 ],\n",
    "    [ 16,   0.30 ],\n",
    "    [ 17,   0.18 ],\n",
    "    [ 18,   0.12 ],\n",
    "    [ 19,   0.08 ]\n",
    "])\n",
    "\n",
    "x, y = data_points.T\n"
   ]
  },
  {
   "cell_type": "code",
   "execution_count": 31,
   "metadata": {},
   "outputs": [
    {
     "name": "stdout",
     "output_type": "stream",
     "text": [
      "slope =  0.38114529360967186 line =  [0.0031984  0.38114529]\n"
     ]
    }
   ],
   "source": [
    "line = np.polyfit(x, y, 1)\n",
    "print(\"slope = \", line[1], \"line = \", line)"
   ]
  },
  {
   "cell_type": "code",
   "execution_count": 32,
   "metadata": {},
   "outputs": [],
   "source": [
    "def func(x, a, b, c):\n",
    "     return a / (x) + b / (x + c)\n",
    "\n",
    "# The actual curve fitting happens here\n",
    "# optimizedParameters, pcov = opt.curve_fit(func, x, y);\n",
    "\n",
    "# Use the optimized parameters to plot the best fit\n",
    "# graph.plot(x, func(x, *optimizedParameters), label=\"fit\");"
   ]
  },
  {
   "cell_type": "code",
   "execution_count": 33,
   "metadata": {},
   "outputs": [
    {
     "data": {
      "image/png": "[encoded data removed]",
      "text/plain": [
       "<Figure size 432x288 with 1 Axes>"
      ]
     },
     "execution_count": 33,
     "metadata": {},
     "output_type": "execute_result"
    }
   ],
   "source": [
    "graph.plot(x, y, \".\", label=\"Data\")\n",
    "# graph.plot(x, x*line[0] + line[1], \"C2\", label=\"Least Square Line\")\n",
    "graph.grid()\n",
    "graph.set(title='Magnetic Field (mT) vs inverse Distance (cm^-1) at fixed current',\n",
    "       ylabel='Magnetic Field (mT)',\n",
    "       xlabel='Distance Inverse (cm^-1)'\n",
    ")\n",
    "graph.legend()\n",
    "\n",
    "fig.savefig('Magnetic-field-outside-straight-conductor_graph4.png', dpi = 300)\n",
    "fig"
   ]
  },
  {
   "cell_type": "code",
   "execution_count": 11,
   "metadata": {
    "scrolled": false
   },
   "outputs": [
    {
     "data": {
      "text/plain": [
       "'Eg (in eV) = 0.6217'"
      ]
     },
     "execution_count": 11,
     "metadata": {},
     "output_type": "execute_result"
    }
   ],
   "source": [
    "Eg = line[0]*2*k\n",
    "\"Eg (in eV) = %.4f\" % (Eg/e)"
   ]
  }
 ],
 "metadata": {
  "kernelspec": {
   "display_name": "Python 3",
   "language": "python",
   "name": "python3"
  },
  "language_info": {
   "codemirror_mode": {
    "name": "ipython",
    "version": 3
   },
   "file_extension": ".py",
   "mimetype": "text/x-python",
   "name": "python",
   "nbconvert_exporter": "python",
   "pygments_lexer": "ipython3",
   "version": "3.6.7"
  }
 },
 "nbformat": 4,
 "nbformat_minor": 2
}
