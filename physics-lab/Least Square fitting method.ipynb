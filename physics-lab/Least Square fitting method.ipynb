{
 "cells": [
  {
   "cell_type": "code",
   "execution_count": 2,
   "metadata": {},
   "outputs": [
    {
     "data": {
      "text/plain": [
       "<matplotlib.collections.PathCollection at 0x7f6da5ef0828>"
      ]
     },
     "execution_count": 2,
     "metadata": {},
     "output_type": "execute_result"
    },
    {
     "data": {
      "image/png": "[encoded data removed]",
      "text/plain": [
       "<Figure size 432x288 with 1 Axes>"
      ]
     },
     "metadata": {},
     "output_type": "display_data"
    }
   ],
   "source": [
    "import numpy as np\n",
    "from matplotlib import pyplot as plt\n",
    "\n",
    "data_points = np.array([\n",
    "    [300, 207],\n",
    "    [310, 209],\n",
    "    [320, (195+199)/2],\n",
    "    [330, (176+180)/2],\n",
    "    [340, 146.5],\n",
    "    [350, (114+117)/2],\n",
    "    [360, 89],\n",
    "    [370, 70],\n",
    "    [380, 53],\n",
    "    [390, 40.5],\n",
    "    [400, 32.5],\n",
    "    [410, 26]\n",
    "])\n",
    "\n",
    "x, y = data_points.T\n",
    "plt.scatter(x,y)"
   ]
  },
  {
   "cell_type": "code",
   "execution_count": 62,
   "metadata": {},
   "outputs": [
    {
     "name": "stdout",
     "output_type": "stream",
     "text": [
      "[ 3.29418354e-02 -2.47127369e+02] (-247.12736927443734, 0.03294183543689739)\n"
     ]
    }
   ],
   "source": [
    "a = ( np.mean(y)*sum([i*i for i in x]) - np.mean(x)*sum(np.multiply(x, y)) ) / (sum([i*i for i in x]) - len(x)*np.mean(x)**2)\n",
    "b = ( sum(np.multiply(x, y)) - len(x)*np.mean(x)*np.mean(y) ) / (sum([i*i for i in x]) - len(x)*np.mean(x)**2)\n",
    "\n",
    "line = np.polyfit(x, y, 1)\n",
    "print(line, (a,b))"
   ]
  },
  {
   "cell_type": "code",
   "execution_count": 68,
   "metadata": {},
   "outputs": [
    {
     "data": {
      "image/png": "[encoded data removed]",
      "text/plain": [
       "<Figure size 432x288 with 1 Axes>"
      ]
     },
     "metadata": {},
     "output_type": "display_data"
    }
   ],
   "source": [
    "def lineeqn(xo):\n",
    "    return line[0]*xo + line[1]\n",
    "\n",
    "plt.plot(x, y, 'b+')\n",
    "plt.plot(x, lineeqn(x), 'r')\n",
    "plt.grid()\n",
    "plt.show()"
   ]
  },
  {
   "cell_type": "code",
   "execution_count": 64,
   "metadata": {
    "scrolled": false
   },
   "outputs": [
    {
     "data": {
      "text/plain": [
       "([1.2164908818550878e-05,\n",
       "  8.289769576988127e-06,\n",
       "  6.949322641028103e-06,\n",
       "  6.674988525068298e-06,\n",
       "  6.892411268125929e-06,\n",
       "  7.254600585621838e-06,\n",
       "  7.643149169818199e-06,\n",
       "  8.016361443157123e-06,\n",
       "  8.26856157727342e-06,\n",
       "  8.413222222064876e-06,\n",
       "  8.52354322168773e-06,\n",
       "  8.53753590322421e-06],\n",
       " 8.135697912717395e-06)"
      ]
     },
     "execution_count": 64,
     "metadata": {},
     "output_type": "execute_result"
    }
   ],
   "source": [
    "vsd = [j - line[1] for j in y]\n",
    "\n",
    "stefs = []\n",
    "for l in range(len(vsd)):\n",
    "    stefs.append(2.43*10**(-4)*vsd[l]/x[l])\n",
    "\n",
    "stefs, np.mean(stefs)"
   ]
  },
  {
   "cell_type": "code",
   "execution_count": 58,
   "metadata": {},
   "outputs": [
    {
     "data": {
      "text/plain": [
       "7.090159134680325e-09"
      ]
     },
     "execution_count": 58,
     "metadata": {},
     "output_type": "execute_result"
    }
   ],
   "source": [
    "stef = 2.43*10**(-4)*(216.0-line[1])/14038.782*10**-3\n",
    "stef"
   ]
  }
 ],
 "metadata": {
  "kernelspec": {
   "display_name": "Python 3",
   "language": "python",
   "name": "python3"
  },
  "language_info": {
   "codemirror_mode": {
    "name": "ipython",
    "version": 3
   },
   "file_extension": ".py",
   "mimetype": "text/x-python",
   "name": "python",
   "nbconvert_exporter": "python",
   "pygments_lexer": "ipython3",
   "version": "3.6.5"
  }
 },
 "nbformat": 4,
 "nbformat_minor": 2
}
