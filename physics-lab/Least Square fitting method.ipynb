{
 "cells": [
  {
   "cell_type": "code",
   "execution_count": 11,
   "metadata": {},
   "outputs": [
    {
     "data": {
      "text/plain": [
       "<module 'matplotlib.pyplot' from '/home/xypnox/.local/lib/python3.6/site-packages/matplotlib/pyplot.py'>"
      ]
     },
     "execution_count": 11,
     "metadata": {},
     "output_type": "execute_result"
    },
    {
     "data": {
      "image/png": "[encoded data removed]",
      "text/plain": [
       "<Figure size 432x288 with 1 Axes>"
      ]
     },
     "metadata": {
      "needs_background": "light"
     },
     "output_type": "display_data"
    }
   ],
   "source": [
    "import numpy as np\n",
    "from matplotlib import pyplot as plt\n",
    "\n",
    "data_points = np.array([\n",
    "    [100, 5.56],\n",
    "    [200, 5.5],\n",
    "    [500, 5.5],\n",
    "    [750, 5.33],\n",
    "    [1000, 5.33],\n",
    "    [2.5e3, 5],\n",
    "    [5e3, 4.33],\n",
    "    [7.5e3, 3.73],\n",
    "    [10e3, 3.13],\n",
    "    [20e3, 2.83],\n",
    "    [30e3, 2.40],\n",
    "    [40e3, 1.33],\n",
    "    [50e3, 1.23],\n",
    "    [75e3, 1.00],\n",
    "    [100e3, 0.73],\n",
    "    [200e3, 0.46],\n",
    "    [500e3, 0.33],\n",
    "    [1000e3, 0.32],\n",
    "])\n",
    "\n",
    "x, y = data_points.T\n",
    "plt.scatter(x,y)\n",
    "plt"
   ]
  },
  {
   "cell_type": "code",
   "execution_count": 12,
   "metadata": {},
   "outputs": [],
   "source": [
    "# a = ( np.mean(y)*sum([i*i for i in x]) - np.mean(x)*sum(np.multiply(x, y)) ) / (sum([i*i for i in x]) - len(x)*np.mean(x)**2)\n",
    "# b = ( sum(np.multiply(x, y)) - len(x)*np.mean(x)*np.mean(y) ) / (sum([i*i for i in x]) - len(x)*np.mean(x)**2)\n",
    "\n",
    "# line = np.polyfit(x, y, 1)\n",
    "# print(line, [b,a])"
   ]
  },
  {
   "cell_type": "code",
   "execution_count": 13,
   "metadata": {},
   "outputs": [
    {
     "ename": "AttributeError",
     "evalue": "module 'matplotlib.pyplot' has no attribute 'set'",
     "output_type": "error",
     "traceback": [
      "\u001b[0;31m---------------------------------------------------------------------------\u001b[0m",
      "\u001b[0;31mAttributeError\u001b[0m                            Traceback (most recent call last)",
      "\u001b[0;32m<ipython-input-13-4723541e0b06>\u001b[0m in \u001b[0;36m<module>\u001b[0;34m\u001b[0m\n\u001b[1;32m      6\u001b[0m \u001b[0mplt\u001b[0m\u001b[0;34m.\u001b[0m\u001b[0mgrid\u001b[0m\u001b[0;34m(\u001b[0m\u001b[0;34m)\u001b[0m\u001b[0;34m\u001b[0m\u001b[0;34m\u001b[0m\u001b[0m\n\u001b[1;32m      7\u001b[0m \u001b[0;34m\u001b[0m\u001b[0m\n\u001b[0;32m----> 8\u001b[0;31m plt.set(\n\u001b[0m\u001b[1;32m      9\u001b[0m     \u001b[0mxlabel\u001b[0m \u001b[0;34m=\u001b[0m \u001b[0;34m\"Frequency (Hz)\"\u001b[0m\u001b[0;34m,\u001b[0m\u001b[0;34m\u001b[0m\u001b[0;34m\u001b[0m\u001b[0m\n\u001b[1;32m     10\u001b[0m     \u001b[0mylabel\u001b[0m \u001b[0;34m=\u001b[0m \u001b[0;34m\"Gain\"\u001b[0m\u001b[0;34m,\u001b[0m\u001b[0;34m\u001b[0m\u001b[0;34m\u001b[0m\u001b[0m\n",
      "\u001b[0;31mAttributeError\u001b[0m: module 'matplotlib.pyplot' has no attribute 'set'"
     ]
    },
    {
     "data": {
      "image/png": "[encoded data removed]",
      "text/plain": [
       "<Figure size 432x288 with 1 Axes>"
      ]
     },
     "metadata": {
      "needs_background": "light"
     },
     "output_type": "display_data"
    }
   ],
   "source": [
    "# def lineeqn(xo):\n",
    "#     return line[0]*xo + line[1]\n",
    "\n",
    "plt.semilogx(x, y, 'b+')\n",
    "# plt.plot(x, lineeqn(x), 'r')\n",
    "plt.grid()\n",
    "\n",
    "plt.set(\n",
    "    xlabel = \"Frequency (Hz)\",\n",
    "    ylabel = \"Gain\",\n",
    "    title  = \"1st order low pass filter\"\n",
    ")\n",
    "\n",
    "plt.show()"
   ]
  },
  {
   "cell_type": "code",
   "execution_count": null,
   "metadata": {},
   "outputs": [],
   "source": []
  }
 ],
 "metadata": {
  "kernelspec": {
   "display_name": "Python 3",
   "language": "python",
   "name": "python3"
  },
  "language_info": {
   "codemirror_mode": {
    "name": "ipython",
    "version": 3
   },
   "file_extension": ".py",
   "mimetype": "text/x-python",
   "name": "python",
   "nbconvert_exporter": "python",
   "pygments_lexer": "ipython3",
   "version": "3.6.8"
  }
 },
 "nbformat": 4,
 "nbformat_minor": 2
}
