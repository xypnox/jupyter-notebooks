{
 "cells": [
  {
   "cell_type": "code",
   "execution_count": 164,
   "metadata": {},
   "outputs": [],
   "source": [
    "import numpy as np\n",
    "from matplotlib import pyplot as plt\n",
    "%matplotlib inline\n",
    "from scipy.constants import k,e #in SI\n",
    "import scipy.optimize as opt"
   ]
  },
  {
   "cell_type": "code",
   "execution_count": 165,
   "metadata": {},
   "outputs": [
    {
     "data": {
      "image/png": "[encoded data removed]",
      "text/plain": [
       "<Figure size 432x288 with 1 Axes>"
      ]
     },
     "metadata": {
      "needs_background": "light"
     },
     "output_type": "display_data"
    },
    {
     "data": {
      "text/plain": [
       "<Figure size 4320x4320 with 0 Axes>"
      ]
     },
     "metadata": {},
     "output_type": "display_data"
    }
   ],
   "source": [
    "(fig, graph) = plt.subplots()\n",
    "plt.figure(figsize=(60, 60))\n",
    "plt.style.use('seaborn-bright')\n",
    "\n",
    "angles = [\n",
    "    [359,  2/3, 28],\n",
    "    [359,    0, 56],\n",
    "    [358,  2/3, 12],\n",
    "    [358,  1/3, 40],\n",
    "    [358,  1/3, 16],\n",
    "]\n",
    "\n",
    "angles2 = [\n",
    "    [179,  2/3, 22],\n",
    "    [179,    0, 49],\n",
    "    [178,  2/3, 16],\n",
    "    [178,  1/3, 32],   \n",
    "    [178,  1/3,  6]\n",
    "]\n",
    "\n",
    "baseangle = 320 + 1/3 + 12/180\n",
    "baseangle2 = 140 + 1/3 + 7/180\n",
    "\n",
    "d = [a[0] + a[1] + (a[2] / 180) - baseangle  for a in angles]\n",
    "d2 = [a[0] + a[1] + (a[2] / 180) - baseangle2 for a in angles2]\n",
    "\n",
    "deviation = [(x + y) /2 for x, y in zip(d, d2)]\n",
    "wavelengths = [\n",
    "    sum([450, 400])/2,\n",
    "    sum([490, 450])/2,\n",
    "    sum([560, 520])/2,\n",
    "    sum([590, 560])/2,\n",
    "    sum([700, 635])/2\n",
    "]\n"
   ]
  },
  {
   "cell_type": "markdown",
   "metadata": {},
   "source": [
    "\n",
    "\n",
    "Electromagnetic radiation is characterized by its wavelength (or frequency) and its intensity. When the wavelength is within the visible spectrum (the range of wavelengths humans can perceive, approximately from 390 nm to 700 nm), it is known as \"visible light\". \n",
    "\n",
    "| Color                                                   | Frequency interval |\n",
    "| :------------------------------------------------------ | ------------------ |\n",
    "| [Red](https://en.wikipedia.org/wiki/Red)                | ~ 700–635 nm       |\n",
    "| [Orange](https://en.wikipedia.org/wiki/Orange_(colour)) | ~ 635–590 nm       |\n",
    "| [Yellow](https://en.wikipedia.org/wiki/Yellow)          | ~ 590–560 nm       |\n",
    "| [Green](https://en.wikipedia.org/wiki/Green)            | ~ 560–520 nm       |\n",
    "| [Cyan](https://en.wikipedia.org/wiki/Cyan)              | ~ 520–490 nm       |\n",
    "| [Blue](https://en.wikipedia.org/wiki/Blue)              | ~ 490–450 nm       |\n",
    "| [Violet](https://en.wikipedia.org/wiki/Violet_(color))  | ~ 450–400 nm       |\n",
    "\n"
   ]
  },
  {
   "cell_type": "code",
   "execution_count": 166,
   "metadata": {},
   "outputs": [],
   "source": [
    "def curveVal(a, const, polyDeg=1):\n",
    "    # evaluates value of curve at x=a for given const of polyDeg degree polynomial\n",
    "    # print([const[i]*a**(polyDeg-i) for i in range(polyDeg)])\n",
    "    return sum([const[i]*a**(polyDeg-i) for i in range(polyDeg+1)])\n",
    "\n",
    "def curvy(x, depth=1000, extend=1):\n",
    "    # Returns a numpy array for with depth # of divisions within the eq\n",
    "    # extend can be passed to extend the range with the ratio of the extension\n",
    "    a, b = min(x), max(x)\n",
    "    a, b = a + (a - extend*a), extend*b\n",
    "#     print(a, b)\n",
    "    return np.arange(a, b, (b-a)/depth)\n",
    "\n",
    "def getCurve(x, y, polyDeg=1, depth=1000, extend=1):\n",
    "    # returns a x, y so that they are smooth plotable polynomial curve\n",
    "    const = np.polyfit(x, y, polyDeg)\n",
    "    x_o = curvy(x, depth, extend)\n",
    "    return x_o, [curveVal(a, const, polyDeg) for a in x_o], const\n",
    "\n",
    "colors = ['#FFB412', '#D97E0F', '#B34692', '#72348C', '#20024D']"
   ]
  },
  {
   "cell_type": "code",
   "execution_count": 167,
   "metadata": {},
   "outputs": [],
   "source": [
    "curve = np.polyfit(wavelengths, deviation, 2)\n",
    "subtext = \"curve = \" + '%.4f'%curve[0] + \"x^2 + \" + '%.4f'%curve[1] + \"x + \" + '%.4f'%curve[2]\n",
    "# print(getCurve(wavelengths, deviation, 2))\n"
   ]
  },
  {
   "cell_type": "code",
   "execution_count": 168,
   "metadata": {},
   "outputs": [
    {
     "data": {
      "image/png": "[encoded data removed]",
      "text/plain": [
       "<Figure size 432x288 with 1 Axes>"
      ]
     },
     "execution_count": 168,
     "metadata": {},
     "output_type": "execute_result"
    }
   ],
   "source": [
    "graph.scatter(x, y, color=colors[0], label=\"Data\")\n",
    "px, py, _ = getCurve(wavelengths, deviation, 2)\n",
    "graph.plot(px, py, color=colors[4], label=\"Linear Fit\")\n",
    "graph.grid()\n",
    "graph.set(title='Practice',\n",
    "       ylabel='Practice',\n",
    "       xlabel='Prractice'\n",
    ")\n",
    "graph.legend()\n",
    "# graph.text(8, 2, subtext, style='italic', fontsize=8,\n",
    "#         bbox={'facecolor':'white', 'alpha':0.85, 'pad':10})\n",
    "\n",
    "\n",
    "fig.savefig('practice.png', dpi = 300)\n",
    "fig"
   ]
  },
  {
   "cell_type": "code",
   "execution_count": null,
   "metadata": {},
   "outputs": [],
   "source": []
  }
 ],
 "metadata": {
  "kernelspec": {
   "display_name": "Python 3",
   "language": "python",
   "name": "python3"
  },
  "language_info": {
   "codemirror_mode": {
    "name": "ipython",
    "version": 3
   },
   "file_extension": ".py",
   "mimetype": "text/x-python",
   "name": "python",
   "nbconvert_exporter": "python",
   "pygments_lexer": "ipython3",
   "version": "3.6.8"
  }
 },
 "nbformat": 4,
 "nbformat_minor": 2
}
