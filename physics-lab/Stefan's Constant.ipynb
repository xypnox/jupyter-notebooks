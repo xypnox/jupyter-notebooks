{
 "cells": [
  {
   "cell_type": "code",
   "execution_count": 1,
   "metadata": {},
   "outputs": [
    {
     "name": "stderr",
     "output_type": "stream",
     "text": [
      "/usr/lib/python3.6/importlib/_bootstrap.py:219: RuntimeWarning: numpy.dtype size changed, may indicate binary incompatibility. Expected 96, got 88\n",
      "  return f(*args, **kwds)\n"
     ]
    }
   ],
   "source": [
    "import numpy as np\n",
    "from matplotlib import pyplot as plt\n",
    "import pandas as pd\n",
    "fig, graph = plt.subplots()\n",
    "\n",
    "data_points = np.array([\n",
    "    [ 493.6490,     0],\n",
    "    [ 726.4623,   0.7],\n",
    "    [ 900.5072,  10.4],\n",
    "    [1034.3531,  37.0],\n",
    "    [1144.1591,  77.4],\n",
    "    [1239.1082, 122.8],\n",
    "    [1324.5908, 169.5],\n",
    "    [1403.8782, 216.0],\n",
    "#     [1472.7344, 254.0],\n",
    "#     [1539.8375, 286.0],\n",
    "#     [1599.7332, 314.0],\n",
    "#     [1659.7289, 336.0]\n",
    "])\n",
    "\n",
    "x, y = data_points.T\n",
    "# graph.plot(x, y, 'bo')"
   ]
  },
  {
   "cell_type": "code",
   "execution_count": 2,
   "metadata": {},
   "outputs": [
    {
     "name": "stdout",
     "output_type": "stream",
     "text": [
      "[   0.23783957 -166.54378309]\n"
     ]
    }
   ],
   "source": [
    "line = np.polyfit(x, y, 1)\n",
    "print(line)"
   ]
  },
  {
   "cell_type": "code",
   "execution_count": 9,
   "metadata": {},
   "outputs": [
    {
     "data": {
      "image/png": "[encoded data removed]",
      "text/plain": [
       "<Figure size 640x480 with 1 Axes>"
      ]
     },
     "execution_count": 9,
     "metadata": {},
     "output_type": "execute_result"
    }
   ],
   "source": [
    "def lineeqn(xo):\n",
    "    return line[0]*xo + line[1]\n",
    "\n",
    "graph.set(\n",
    "    xlabel = \"T (K)\",\n",
    "    ylabel = \"Vd (in mV)\",\n",
    "    title = \"Graph of Vs (mV) vs T (K)\",\n",
    "    xlim = [-100, 1500],\n",
    "    ylim = [-200, 250]\n",
    ")\n",
    "\n",
    "graph.plot(x, y, 'ro')\n",
    "limx = [0] + x\n",
    "graph.plot(limx, lineeqn(limx), 'b')\n",
    "\n",
    "graph.grid()\n",
    "\n",
    "fig"
   ]
  },
  {
   "cell_type": "code",
   "execution_count": 12,
   "metadata": {
    "scrolled": false
   },
   "outputs": [],
   "source": [
    "vsd = [j - line[1] for j in y]\n",
    "\n",
    "stefs = []\n",
    "for l in range(len(vsd)):\n",
    "    stefs.append(2.43*10**(-7)*vsd[l]/x[l])"
   ]
  },
  {
   "cell_type": "code",
   "execution_count": 13,
   "metadata": {},
   "outputs": [
    {
     "data": {
      "text/html": [
       "<div>\n",
       "<style scoped>\n",
       "    .dataframe tbody tr th:only-of-type {\n",
       "        vertical-align: middle;\n",
       "    }\n",
       "\n",
       "    .dataframe tbody tr th {\n",
       "        vertical-align: top;\n",
       "    }\n",
       "\n",
       "    .dataframe thead th {\n",
       "        text-align: right;\n",
       "    }\n",
       "</style>\n",
       "<table border=\"1\" class=\"dataframe\">\n",
       "  <thead>\n",
       "    <tr style=\"text-align: right;\">\n",
       "      <th></th>\n",
       "      <th>Temperature (K)</th>\n",
       "      <th>Vs (mV)</th>\n",
       "      <th>Vs' = Vs + Vo (mV)</th>\n",
       "      <th>Vs' by T</th>\n",
       "      <th>Stefan's Constant</th>\n",
       "    </tr>\n",
       "  </thead>\n",
       "  <tbody>\n",
       "    <tr>\n",
       "      <th>0</th>\n",
       "      <td>493.6490</td>\n",
       "      <td>0.0</td>\n",
       "      <td>166.543783</td>\n",
       "      <td>0.337373</td>\n",
       "      <td>8.198161e-08</td>\n",
       "    </tr>\n",
       "    <tr>\n",
       "      <th>1</th>\n",
       "      <td>726.4623</td>\n",
       "      <td>0.7</td>\n",
       "      <td>167.243783</td>\n",
       "      <td>0.230217</td>\n",
       "      <td>5.594267e-08</td>\n",
       "    </tr>\n",
       "    <tr>\n",
       "      <th>2</th>\n",
       "      <td>900.5072</td>\n",
       "      <td>10.4</td>\n",
       "      <td>176.943783</td>\n",
       "      <td>0.196493</td>\n",
       "      <td>4.774791e-08</td>\n",
       "    </tr>\n",
       "    <tr>\n",
       "      <th>3</th>\n",
       "      <td>1034.3531</td>\n",
       "      <td>37.0</td>\n",
       "      <td>203.543783</td>\n",
       "      <td>0.196784</td>\n",
       "      <td>4.781843e-08</td>\n",
       "    </tr>\n",
       "    <tr>\n",
       "      <th>4</th>\n",
       "      <td>1144.1591</td>\n",
       "      <td>77.4</td>\n",
       "      <td>243.943783</td>\n",
       "      <td>0.213208</td>\n",
       "      <td>5.180952e-08</td>\n",
       "    </tr>\n",
       "    <tr>\n",
       "      <th>5</th>\n",
       "      <td>1239.1082</td>\n",
       "      <td>122.8</td>\n",
       "      <td>289.343783</td>\n",
       "      <td>0.233510</td>\n",
       "      <td>5.674286e-08</td>\n",
       "    </tr>\n",
       "    <tr>\n",
       "      <th>6</th>\n",
       "      <td>1324.5908</td>\n",
       "      <td>169.5</td>\n",
       "      <td>336.043783</td>\n",
       "      <td>0.253696</td>\n",
       "      <td>6.164820e-08</td>\n",
       "    </tr>\n",
       "    <tr>\n",
       "      <th>7</th>\n",
       "      <td>1403.8782</td>\n",
       "      <td>216.0</td>\n",
       "      <td>382.543783</td>\n",
       "      <td>0.272491</td>\n",
       "      <td>6.621525e-08</td>\n",
       "    </tr>\n",
       "  </tbody>\n",
       "</table>\n",
       "</div>"
      ],
      "text/plain": [
       "   Temperature (K)  Vs (mV)  Vs' = Vs + Vo (mV)  Vs' by T  Stefan's Constant\n",
       "0         493.6490      0.0          166.543783  0.337373       8.198161e-08\n",
       "1         726.4623      0.7          167.243783  0.230217       5.594267e-08\n",
       "2         900.5072     10.4          176.943783  0.196493       4.774791e-08\n",
       "3        1034.3531     37.0          203.543783  0.196784       4.781843e-08\n",
       "4        1144.1591     77.4          243.943783  0.213208       5.180952e-08\n",
       "5        1239.1082    122.8          289.343783  0.233510       5.674286e-08\n",
       "6        1324.5908    169.5          336.043783  0.253696       6.164820e-08\n",
       "7        1403.8782    216.0          382.543783  0.272491       6.621525e-08"
      ]
     },
     "execution_count": 13,
     "metadata": {},
     "output_type": "execute_result"
    }
   ],
   "source": [
    "VbyT = [vsd[i]/x[i] for i in range(len(vsd))]\n",
    "pd.DataFrame(\n",
    "    np.transpose([x, y, vsd, VbyT, stefs]),\n",
    "    columns=[\n",
    "        \"Temperature (K)\",\n",
    "        \"Vs (mV)\",\n",
    "        \"Vs\\' = Vs + Vo (mV)\",\n",
    "        \"Vs\\' by T\",\n",
    "        \"Stefan's Constant\"\n",
    "    ]\n",
    ")"
   ]
  },
  {
   "cell_type": "code",
   "execution_count": 14,
   "metadata": {},
   "outputs": [
    {
     "name": "stdout",
     "output_type": "stream",
     "text": [
      "The setfan's Constant calculated by the experiment is  5.874e-08\n"
     ]
    }
   ],
   "source": [
    "print(\n",
    "    \"The setfan's Constant calculated by the experiment is \",\n",
    "    \"%.3e\" % np.mean(stefs)\n",
    ")\n",
    "fig.savefig('final_graph.png', dpi = 300)"
   ]
  }
 ],
 "metadata": {
  "kernelspec": {
   "display_name": "Python 3",
   "language": "python",
   "name": "python3"
  },
  "language_info": {
   "codemirror_mode": {
    "name": "ipython",
    "version": 3
   },
   "file_extension": ".py",
   "mimetype": "text/x-python",
   "name": "python",
   "nbconvert_exporter": "python",
   "pygments_lexer": "ipython3",
   "version": "3.6.5"
  }
 },
 "nbformat": 4,
 "nbformat_minor": 2
}
