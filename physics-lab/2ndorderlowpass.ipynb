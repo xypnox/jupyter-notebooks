{
 "cells": [
  {
   "cell_type": "code",
   "execution_count": 3,
   "metadata": {},
   "outputs": [
    {
     "data": {
      "image/png": "[encoded data removed]",
      "text/plain": [
       "<Figure size 432x288 with 1 Axes>"
      ]
     },
     "metadata": {
      "needs_background": "light"
     },
     "output_type": "display_data"
    }
   ],
   "source": [
    "import numpy as np\n",
    "from matplotlib import pyplot as plt\n",
    "from scipy.constants import k,e #in SI\n",
    "fig, graph = plt.subplots()\n",
    "\n",
    "data_points = np.array([\n",
    "    [100, 6.14],\n",
    "    [250, 6.14],\n",
    "    [400, 6.00],\n",
    "    [500, 5.85],\n",
    "    [1000,5.71],\n",
    "    [1500,5.21],\n",
    "    [2e3, 4.75],\n",
    "    [2.5e3, 4.57],\n",
    "    [5e3, 3.42],\n",
    "    [8e3, 1.12],\n",
    "    [10e3, 1.03],\n",
    "    [10.5e3, 0.82],\n",
    "    [11e3, 0.78],\n",
    "    [11.5e3, 0.78],\n",
    "    [12e3, 0.68],\n",
    "    [13e3, 0.57],\n",
    "    [15e3, 0.46]\n",
    "])\n",
    "\n",
    "x, y = data_points.T"
   ]
  },
  {
   "cell_type": "code",
   "execution_count": 4,
   "metadata": {},
   "outputs": [
    {
     "data": {
      "image/png": "[encoded data removed]",
      "text/plain": [
       "<Figure size 432x288 with 1 Axes>"
      ]
     },
     "execution_count": 4,
     "metadata": {},
     "output_type": "execute_result"
    }
   ],
   "source": [
    "graph.semilogx(x, y, 'b+')\n",
    "graph.grid()\n",
    "graph.set(\n",
    "    xlabel = \"Frequency (Hz)\",\n",
    "    ylabel = \"Gain\",\n",
    "    title  = \"2nd order low pass filter\"\n",
    ")\n",
    "\n",
    "fig.savefig('2ndorderlowpass.png', dpi = 300)\n",
    "fig"
   ]
  },
  {
   "cell_type": "code",
   "execution_count": null,
   "metadata": {},
   "outputs": [],
   "source": []
  }
 ],
 "metadata": {
  "kernelspec": {
   "display_name": "Python 3",
   "language": "python",
   "name": "python3"
  },
  "language_info": {
   "codemirror_mode": {
    "name": "ipython",
    "version": 3
   },
   "file_extension": ".py",
   "mimetype": "text/x-python",
   "name": "python",
   "nbconvert_exporter": "python",
   "pygments_lexer": "ipython3",
   "version": "3.6.8"
  }
 },
 "nbformat": 4,
 "nbformat_minor": 2
}
