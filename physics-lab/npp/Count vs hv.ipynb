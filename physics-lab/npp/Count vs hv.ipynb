{
 "cells": [
  {
   "cell_type": "code",
   "execution_count": 20,
   "metadata": {},
   "outputs": [
    {
     "data": {
      "image/png": "[encoded data removed]",
      "text/plain": [
       "<Figure size 432x288 with 1 Axes>"
      ]
     },
     "metadata": {
      "needs_background": "light"
     },
     "output_type": "display_data"
    }
   ],
   "source": [
    "import matplotlib.pyplot as plt\n",
    "import matplotlib.axes as ax\n",
    "data = [[\n",
    "    325,\n",
    "    600,\n",
    "    350,\n",
    "    620,\n",
    "    375,\n",
    "    640,\n",
    "    400,\n",
    "    660,\n",
    "    410,\n",
    "    680,\n",
    "    420,\n",
    "    700,\n",
    "    430,\n",
    "    710,\n",
    "    440,\n",
    "    720,\n",
    "    460,\n",
    "    730,\n",
    "    480,\n",
    "    740,\n",
    "    500,\n",
    "    750,\n",
    "    520,\n",
    "    760,\n",
    "    540,\n",
    "    770,\n",
    "    560,\n",
    "    780,\n",
    "    580,\n",
    "    ],[\n",
    "    0,\n",
    "    3824,\n",
    "    0,\n",
    "    3856,\n",
    "    0,\n",
    "    3892,\n",
    "    80,\n",
    "    3824,\n",
    "    2584,\n",
    "    3840,\n",
    "    3496,\n",
    "    3936,\n",
    "    3544,\n",
    "    4004,\n",
    "    3376,\n",
    "    3940,\n",
    "    3568,\n",
    "    3996,\n",
    "    3648,\n",
    "    4016,\n",
    "    3620,\n",
    "    3904,\n",
    "    3676,\n",
    "    3972,\n",
    "    3876,\n",
    "    3912,\n",
    "    3864,\n",
    "    4060,\n",
    "    3908\n",
    "]]\n",
    "\n",
    "plt.plot(data[0], data[1], 'o', ms=4)\n",
    "plt.xlabel(\"High Voltage (V)\")\n",
    "plt.ylabel(\"Counts\")\n",
    "plt.grid()\n",
    "plt.vlines(420, -200, 3596, colors='#333333', linestyles='dotted')\n",
    "plt.vlines(680, -200, 3840)\n",
    "plt.ylim(-100, 4500)\n",
    "plt.savefig(\"e01p1.png\", dpi=300)"
   ]
  },
  {
   "cell_type": "code",
   "execution_count": null,
   "metadata": {},
   "outputs": [],
   "source": []
  }
 ],
 "metadata": {
  "kernelspec": {
   "display_name": "Python 3",
   "language": "python",
   "name": "python3"
  },
  "language_info": {
   "codemirror_mode": {
    "name": "ipython",
    "version": 3
   },
   "file_extension": ".py",
   "mimetype": "text/x-python",
   "name": "python",
   "nbconvert_exporter": "python",
   "pygments_lexer": "ipython3",
   "version": "3.6.9"
  }
 },
 "nbformat": 4,
 "nbformat_minor": 2
}
