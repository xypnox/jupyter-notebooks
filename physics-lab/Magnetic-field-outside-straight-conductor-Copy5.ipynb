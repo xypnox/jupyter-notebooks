{
 "cells": [
  {
   "cell_type": "code",
   "execution_count": 23,
   "metadata": {},
   "outputs": [
    {
     "data": {
      "image/png": "[encoded data removed]",
      "text/plain": [
       "<Figure size 432x288 with 1 Axes>"
      ]
     },
     "metadata": {
      "needs_background": "light"
     },
     "output_type": "display_data"
    },
    {
     "data": {
      "text/plain": [
       "<Figure size 4320x4320 with 0 Axes>"
      ]
     },
     "metadata": {},
     "output_type": "display_data"
    }
   ],
   "source": [
    "import numpy as np\n",
    "from matplotlib import pyplot as plt\n",
    "%matplotlib inline\n",
    "from scipy.constants import k,e #in SI\n",
    "import scipy.optimize as opt\n",
    "\n",
    "\n",
    "(fig, graph) = plt.subplots()\n",
    "plt.figure(figsize=(60, 60))\n",
    "plt.style.use('seaborn-muted')\n",
    "\n",
    "data_points = np.array([\n",
    "    #d(cm)  #B(mT)\n",
    "    [  1,   0.16 ],\n",
    "    [  2,   0.18 ],\n",
    "    [  3,   0.20 ],\n",
    "    [  4,   0.23 ],\n",
    "    [  5,   0.30 ],\n",
    "    [  6,   0.43 ],\n",
    "    [6.5,   0.53 ],\n",
    "#     [  7,   0.40 ],\n",
    "    [  8,   0.55 ],\n",
    "    [  9,   0.15 ],\n",
    "    [ 10,   0.02 ],\n",
    "    [ 11,   0.04 ],\n",
    "    [ 12,   0.17 ],\n",
    "    [ 13,   0.65 ],\n",
    "    [ 14,   0.55 ],\n",
    "    [ 15,   0.22 ],\n",
    "    [ 16,   0.13 ],\n",
    "    [ 17,   0.09 ],\n",
    "    [ 18,   0.07 ],\n",
    "    [ 19,   0.05 ],\n",
    "    [ 20,   0.04 ]\n",
    "])\n",
    "\n",
    "x, y = data_points.T\n"
   ]
  },
  {
   "cell_type": "code",
   "execution_count": 24,
   "metadata": {},
   "outputs": [
    {
     "name": "stdout",
     "output_type": "stream",
     "text": [
      "slope =  0.32878764089048407 line =  [-0.00866708  0.32878764]\n"
     ]
    }
   ],
   "source": [
    "line = np.polyfit(x, y, 1)\n",
    "print(\"slope = \", line[1], \"line = \", line)"
   ]
  },
  {
   "cell_type": "code",
   "execution_count": 25,
   "metadata": {},
   "outputs": [],
   "source": [
    "def func(x, a, b, c):\n",
    "     return  -a / abs(x - 7) + b / abs(x - 14)\n",
    "\n",
    "# The actual curve fitting happens here\n",
    "# optimizedParameters, pcov = opt.curve_fit(func, x, y)\n",
    "\n",
    "# points = np.arange(1, 20, 0.1)\n",
    "\n",
    "# Use the optimized parameters to plot the best fit\n",
    "# graph.plot(points, func(points, *optimizedParameters), \"C0\", label=\"fit\", linewidth=5)"
   ]
  },
  {
   "cell_type": "code",
   "execution_count": null,
   "metadata": {},
   "outputs": [],
   "source": [
    "graph.plot(x, y, \".C2\", label=\"Data\", markersize=15)\n",
    "# graph.axis((x[0]-1,x[-1]+1,0,0.9))\n",
    "# graph.plot(x, x*line[0] + line[1], \"C2\", label=\"Least Square Line\")\n",
    "graph.grid()\n",
    "graph.set(title='Magnetic Field (mT) vs Distance (cm)',\n",
    "       ylabel='Magnetic Field (mT)',\n",
    "       xlabel='Distance (cm)'\n",
    ")\n",
    "graph.legend()\n",
    "\n",
    "fig.savefig('Magnetic-field-outside-straight-conductor_graph5.png', dpi = 300)\n",
    "fig"
   ]
  },
  {
   "cell_type": "code",
   "execution_count": null,
   "metadata": {},
   "outputs": [],
   "source": []
  }
 ],
 "metadata": {
  "kernelspec": {
   "display_name": "Python 3",
   "language": "python",
   "name": "python3"
  },
  "language_info": {
   "codemirror_mode": {
    "name": "ipython",
    "version": 3
   },
   "file_extension": ".py",
   "mimetype": "text/x-python",
   "name": "python",
   "nbconvert_exporter": "python",
   "pygments_lexer": "ipython3",
   "version": "3.6.7"
  }
 },
 "nbformat": 4,
 "nbformat_minor": 2
}
