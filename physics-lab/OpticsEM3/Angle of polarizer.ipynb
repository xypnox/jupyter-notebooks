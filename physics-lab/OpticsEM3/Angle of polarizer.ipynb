{
 "cells": [
  {
   "cell_type": "code",
   "execution_count": 4,
   "metadata": {},
   "outputs": [
    {
     "data": {
      "image/png": "[encoded data removed]",
      "text/plain": [
       "<Figure size 432x288 with 1 Axes>"
      ]
     },
     "metadata": {
      "needs_background": "light"
     },
     "output_type": "display_data"
    }
   ],
   "source": [
    "import numpy as np\n",
    "from matplotlib import pyplot as plt\n",
    "from scipy.constants import k,e #in SI\n",
    "fig, graph = plt.subplots()\n",
    "\n",
    "\n",
    "\n",
    "x = [\n",
    "0,\n",
    "10,\n",
    "20,\n",
    "30,\n",
    "40,\n",
    "50,\n",
    "60,\n",
    "70,\n",
    "80,\n",
    "90,\n",
    "100,\n",
    "110,\n",
    "120,\n",
    "130,\n",
    "140,\n",
    "150,\n",
    "160,\n",
    "170,\n",
    "180,\n",
    "190,\n",
    "200,\n",
    "210,\n",
    "220,\n",
    "230,\n",
    "240,\n",
    "250,\n",
    "260,\n",
    "270,\n",
    "280,\n",
    "290,\n",
    "300,\n",
    "310,\n",
    "320,\n",
    "330,\n",
    "340,\n",
    "350,\n",
    "360\n",
    "\n",
    "\n",
    "] \n",
    "y= [\n",
    "    2.35,\n",
    "2.33,\n",
    "2.31,\n",
    "2.27,\n",
    "2.21,\n",
    "2.08,\n",
    "1.78,\n",
    "1.21,\n",
    "0.45,\n",
    "0.02,\n",
    "0.27,\n",
    "0.99,\n",
    "1.70,\n",
    "2.06,\n",
    "2.19,\n",
    "2.26,\n",
    "2.31,\n",
    "2.33,\n",
    "2.35,\n",
    "2.34,\n",
    "2.31,\n",
    "2.28,\n",
    "2.21,\n",
    "2.09,\n",
    "1.80,\n",
    "1.04,\n",
    "0.31,\n",
    "0.03,\n",
    "0.47,\n",
    "1.24,\n",
    "1.89,\n",
    "2.13,\n",
    "2.22,\n",
    "2.29,\n",
    "2.32,\n",
    "2.34,\n",
    "2.35\n",
    "\n",
    "]"
   ]
  },
  {
   "cell_type": "code",
   "execution_count": 5,
   "metadata": {},
   "outputs": [
    {
     "data": {
      "image/png": "[encoded data removed]",
      "text/plain": [
       "<Figure size 432x288 with 1 Axes>"
      ]
     },
     "execution_count": 5,
     "metadata": {},
     "output_type": "execute_result"
    }
   ],
   "source": [
    "graph.scatter(x, y)\n",
    "graph.grid()\n",
    "graph.set(\n",
    "    xlabel = \"Angle (degrees)\",\n",
    "    ylabel = \"Voltage\",\n",
    "    title  = \"Angle of polarizer vs Voltage across the Solar cell\"\n",
    ")\n",
    "\n",
    "fig.savefig('anglepol.png', dpi = 300)\n",
    "fig"
   ]
  },
  {
   "cell_type": "code",
   "execution_count": null,
   "metadata": {},
   "outputs": [],
   "source": []
  }
 ],
 "metadata": {
  "kernelspec": {
   "display_name": "Python 3",
   "language": "python",
   "name": "python3"
  },
  "language_info": {
   "codemirror_mode": {
    "name": "ipython",
    "version": 3
   },
   "file_extension": ".py",
   "mimetype": "text/x-python",
   "name": "python",
   "nbconvert_exporter": "python",
   "pygments_lexer": "ipython3",
   "version": "3.6.9"
  }
 },
 "nbformat": 4,
 "nbformat_minor": 2
}
