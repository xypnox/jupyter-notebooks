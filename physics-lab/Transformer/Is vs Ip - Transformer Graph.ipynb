{
 "cells": [
  {
   "cell_type": "code",
   "execution_count": 3,
   "metadata": {
    "scrolled": true
   },
   "outputs": [
    {
     "data": {
      "image/png": "[encoded data removed]",
      "text/plain": [
       "<Figure size 432x288 with 1 Axes>"
      ]
     },
     "metadata": {
      "needs_background": "light"
     },
     "output_type": "display_data"
    },
    {
     "data": {
      "text/plain": [
       "<Figure size 4320x4320 with 0 Axes>"
      ]
     },
     "metadata": {},
     "output_type": "display_data"
    }
   ],
   "source": [
    "import numpy as np\n",
    "from matplotlib import pyplot as plt\n",
    "%matplotlib inline\n",
    "from scipy.constants import k,e #in SI\n",
    "import scipy.optimize as opt\n",
    "\n",
    "\n",
    "(fig, graph) = plt.subplots()\n",
    "plt.figure(figsize=(60, 60))\n",
    "plt.style.use('seaborn-bright')\n",
    "\n",
    "data_points = np.array([\n",
    "      #Ip(A)   #Is(A)\n",
    "    [  1.87,   1.75 ],\n",
    "    [  3.45,   3.30 ],\n",
    "    [  5.90,   5.60 ],\n",
    "    [  7.90,   7.56 ],\n",
    "    [ 10.00,   9.66 ],\n",
    "    [ 12.12,  11.54 ],\n",
    "    [ 13.35,  12.83 ]\n",
    "])\n",
    "\n",
    "x, y = data_points.T\n"
   ]
  },
  {
   "cell_type": "code",
   "execution_count": 43,
   "metadata": {},
   "outputs": [
    {
     "name": "stdout",
     "output_type": "stream",
     "text": [
      "slope = -0.0403 intercept = 0.9621\n"
     ]
    }
   ],
   "source": [
    "line = np.polyfit(x, y, 1)\n",
    "\n",
    "subtext = \"slope = \" + '%.4f'%line[1] + \" intercept = \" + '%.4f'%line[0]\n",
    "print(subtext)"
   ]
  },
  {
   "cell_type": "code",
   "execution_count": 1,
   "metadata": {},
   "outputs": [
    {
     "ename": "NameError",
     "evalue": "name 'opt' is not defined",
     "output_type": "error",
     "traceback": [
      "\u001b[0;31m---------------------------------------------------------------------------\u001b[0m",
      "\u001b[0;31mNameError\u001b[0m                                 Traceback (most recent call last)",
      "\u001b[0;32m<ipython-input-1-df29b713e8c0>\u001b[0m in \u001b[0;36m<module>\u001b[0;34m\u001b[0m\n\u001b[1;32m      3\u001b[0m \u001b[0;34m\u001b[0m\u001b[0m\n\u001b[1;32m      4\u001b[0m \u001b[0;31m# The actual curve fitting happens here\u001b[0m\u001b[0;34m\u001b[0m\u001b[0;34m\u001b[0m\u001b[0;34m\u001b[0m\u001b[0m\n\u001b[0;32m----> 5\u001b[0;31m \u001b[0moptimizedParameters\u001b[0m\u001b[0;34m,\u001b[0m \u001b[0mpcov\u001b[0m \u001b[0;34m=\u001b[0m \u001b[0mopt\u001b[0m\u001b[0;34m.\u001b[0m\u001b[0mcurve_fit\u001b[0m\u001b[0;34m(\u001b[0m\u001b[0mfunc\u001b[0m\u001b[0;34m,\u001b[0m \u001b[0mx\u001b[0m\u001b[0;34m,\u001b[0m \u001b[0my\u001b[0m\u001b[0;34m)\u001b[0m\u001b[0;34m;\u001b[0m\u001b[0;34m\u001b[0m\u001b[0;34m\u001b[0m\u001b[0m\n\u001b[0m\u001b[1;32m      6\u001b[0m \u001b[0;34m\u001b[0m\u001b[0m\n\u001b[1;32m      7\u001b[0m \u001b[0;31m# Use the optimized parameters to plot the best fit\u001b[0m\u001b[0;34m\u001b[0m\u001b[0;34m\u001b[0m\u001b[0;34m\u001b[0m\u001b[0m\n",
      "\u001b[0;31mNameError\u001b[0m: name 'opt' is not defined"
     ]
    }
   ],
   "source": [
    "def func(x, a, b):\n",
    "     return a / (x + b)\n",
    "\n",
    "# The actual curve fitting happens here\n",
    "# optimizedParameters, pcov = opt.curve_fit(func, x, y);\n",
    "\n",
    "# Use the optimized parameters to plot the best fit\n",
    "# graph.plot(x, func(x, *optimizedParameters), label=\"fit\");"
   ]
  },
  {
   "cell_type": "code",
   "execution_count": 45,
   "metadata": {},
   "outputs": [
    {
     "data": {
      "image/png": "[encoded data removed]",
      "text/plain": [
       "<Figure size 432x288 with 1 Axes>"
      ]
     },
     "execution_count": 45,
     "metadata": {},
     "output_type": "execute_result"
    }
   ],
   "source": [
    "graph.scatter(x, y, label=\"Data\")\n",
    "graph.plot(x, x*line[0] + line[1], \"C2\", label=\"Linear Fit\")\n",
    "graph.grid()\n",
    "graph.set(title='Secondary Current vs Primary Current',\n",
    "       ylabel='Secondary Current (Amp)',\n",
    "       xlabel='Primary Current (Amp)'\n",
    ")\n",
    "graph.legend()\n",
    "\n",
    "subtext = \"slope = \" + '%.4f'%line[1] + \" intercept = \" + '%.4f'%line[0]\n",
    "graph.text(8, 2, subtext, style='italic', fontsize=8,\n",
    "        bbox={'facecolor':'white', 'alpha':0.85, 'pad':10})\n",
    "\n",
    "\n",
    "fig.savefig('is-vs-ip.png', dpi = 300)\n",
    "fig"
   ]
  },
  {
   "cell_type": "code",
   "execution_count": null,
   "metadata": {},
   "outputs": [],
   "source": []
  }
 ],
 "metadata": {
  "kernelspec": {
   "display_name": "Python 3",
   "language": "python",
   "name": "python3"
  },
  "language_info": {
   "codemirror_mode": {
    "name": "ipython",
    "version": 3
   },
   "file_extension": ".py",
   "mimetype": "text/x-python",
   "name": "python",
   "nbconvert_exporter": "python",
   "pygments_lexer": "ipython3",
   "version": "3.6.8"
  }
 },
 "nbformat": 4,
 "nbformat_minor": 2
}
