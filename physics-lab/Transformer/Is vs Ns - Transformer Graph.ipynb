{
 "cells": [
  {
   "cell_type": "code",
   "execution_count": 84,
   "metadata": {},
   "outputs": [
    {
     "data": {
      "text/plain": [
       "(25, 25)"
      ]
     },
     "execution_count": 84,
     "metadata": {},
     "output_type": "execute_result"
    },
    {
     "data": {
      "image/png": "[encoded data removed]",
      "text/plain": [
       "<Figure size 432x288 with 1 Axes>"
      ]
     },
     "metadata": {
      "needs_background": "light"
     },
     "output_type": "display_data"
    },
    {
     "data": {
      "text/plain": [
       "<Figure size 4320x4320 with 0 Axes>"
      ]
     },
     "metadata": {},
     "output_type": "display_data"
    }
   ],
   "source": [
    "import numpy as np\n",
    "from matplotlib import pyplot as plt\n",
    "%matplotlib inline\n",
    "from scipy.constants import k,e #in SI\n",
    "import scipy.optimize as opt\n",
    "\n",
    "\n",
    "(fig, graph) = plt.subplots()\n",
    "plt.figure(figsize=(60, 60))\n",
    "plt.style.use('seaborn-bright')\n",
    "\n",
    "#Voltage vs frequency\n",
    "#frequency(Khz)\n",
    "x=[\n",
    "300,\n",
    "400,\n",
    "500,\n",
    "510,\n",
    "525,\n",
    "526,\n",
    "527,\n",
    "528,\n",
    "528.5,\n",
    "529,\n",
    "529.3,\n",
    "529.5,\n",
    "530,\n",
    "531,\n",
    "532,\n",
    "533,\n",
    "533.5,\n",
    "534,\n",
    "535,\n",
    "536,\n",
    "536.3,\n",
    "536.6,\n",
    "537,\n",
    "538,\n",
    "539\n",
    "]\n",
    "\n",
    "#Voltage(V)\n",
    "y=[\n",
    ".04,\n",
    ".08,\n",
    ".43,\n",
    ".64,\n",
    "2,\n",
    "2.1,\n",
    "2.4,\n",
    "2.7,\n",
    "2.9,\n",
    "3.1,\n",
    "3.2,\n",
    "3.3,\n",
    "3.4,\n",
    "4.0,\n",
    "4.3,\n",
    "4.4,\n",
    "4.2,\n",
    "4.0,\n",
    "3.5,\n",
    "3.2,\n",
    "3.1,\n",
    "3.0,\n",
    "2.8,\n",
    "2.6,\n",
    "1\n",
    "]\n",
    "\n",
    "len(x), len(y)"
   ]
  },
  {
   "cell_type": "code",
   "execution_count": 85,
   "metadata": {},
   "outputs": [
    {
     "name": "stdout",
     "output_type": "stream",
     "text": [
      "slope =  -5.654553544761898 line =  [ 0.01612532 -5.65455354]\n"
     ]
    }
   ],
   "source": [
    "line = np.polyfit(x, y, 1)\n",
    "print(\"slope = \", line[1], \"line = \", line)"
   ]
  },
  {
   "cell_type": "code",
   "execution_count": 86,
   "metadata": {},
   "outputs": [],
   "source": [
    "def func(arr):\n",
    "     return [param*float(line[0]) + line[1] for param in arr]\n",
    "\n",
    "# The actual curve fitting happens here\n",
    "# optimizedParameters, pcov = opt.curve_fit(func, x, y);\n",
    "\n",
    "# Use the optimized parameters to plot the best fit\n",
    "# graph.plot(x, func(x, *optimizedParameters), label=\"fit\");"
   ]
  },
  {
   "cell_type": "code",
   "execution_count": 87,
   "metadata": {},
   "outputs": [
    {
     "data": {
      "image/png": "[encoded data removed]",
      "text/plain": [
       "<Figure size 432x288 with 1 Axes>"
      ]
     },
     "execution_count": 87,
     "metadata": {},
     "output_type": "execute_result"
    }
   ],
   "source": [
    "graph.plot(x, y, label=\"Data\")\n",
    "# graph.plot(x, func(x), \"C2\", label=\"Linear Fit\")\n",
    "graph.grid()\n",
    "graph.set(\n",
    "    xlabel = \"Frequency KHz\",\n",
    "    ylabel = \"Voltage V\",\n",
    "    title  = \"Voltage vs Frequency\"\n",
    ")\n",
    "\n",
    "graph.legend()\n",
    "\n",
    "fig.savefig('Voltage vs Frequency.png', dpi = 300)\n",
    "fig"
   ]
  },
  {
   "cell_type": "code",
   "execution_count": null,
   "metadata": {},
   "outputs": [],
   "source": []
  }
 ],
 "metadata": {
  "kernelspec": {
   "display_name": "Python 3",
   "language": "python",
   "name": "python3"
  },
  "language_info": {
   "codemirror_mode": {
    "name": "ipython",
    "version": 3
   },
   "file_extension": ".py",
   "mimetype": "text/x-python",
   "name": "python",
   "nbconvert_exporter": "python",
   "pygments_lexer": "ipython3",
   "version": "3.6.8"
  }
 },
 "nbformat": 4,
 "nbformat_minor": 2
}
