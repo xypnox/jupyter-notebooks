{
 "cells": [
  {
   "cell_type": "code",
   "execution_count": 110,
   "metadata": {},
   "outputs": [
    {
     "name": "stdout",
     "output_type": "stream",
     "text": [
      " [[98.2         1.60833333]\n",
      "  [93.2         1.56566667]\n",
      "  [88.          1.539     ]\n",
      "  [83.2         1.50666667]\n",
      "  [78.          1.50433333]\n",
      "  [73.          1.519     ]\n",
      "  [68.2         1.56333333]\n",
      "  [63.1         1.73966667]\n",
      "  [58.          2.00366667]\n",
      "  [42.2         2.        ]\n",
      "  [37.2         1.69533333]\n",
      "  [32.3         1.56866667]\n",
      "  [27.3         1.516     ]\n",
      "  [22.2         1.50533333]\n",
      "  [17.3         1.52133333]\n",
      "  [12.2         1.539     ]\n",
      "  [ 7.3         1.57966667]\n",
      " [ 2.3         1.61066667]]\n"
     ]
    },
    {
     "data": {
      "image/png": "[encoded data removed]",
      "text/plain": [
       "<Figure size 432x288 with 1 Axes>"
      ]
     },
     "metadata": {},
     "output_type": "display_data"
    }
   ],
   "source": [
    "import numpy as np\n",
    "from matplotlib import pyplot as plt\n",
    "import sys\n",
    "import sympy as sm\n",
    "sys.displayhook = sm.pprint\n",
    "\n",
    "\n",
    "data_points1 = np.array([\n",
    "    [98.2, 48.25],\n",
    "    [93.2, 46.97],\n",
    "    [88.0, 46.17],\n",
    "    [83.2, 45.20],\n",
    "    [78.0, 45.13],\n",
    "    [73.0, 45.57],\n",
    "    [68.2, 46.90],\n",
    "    [63.1, 52.19],\n",
    "    [58.0, 60.11]\n",
    "])\n",
    "\n",
    "\n",
    "data_points2 = np.array([\n",
    "    [98.1, 48.32],\n",
    "    [93.1, 47.39],\n",
    "    [88.2, 46.17],\n",
    "    [83.1, 45.64],\n",
    "    [78.2, 45.16],\n",
    "    [73.1, 45.48],\n",
    "    [68.1, 47.06],\n",
    "    [63.2, 50.86],\n",
    "    [58.2, 60.00]\n",
    "])\n",
    "\n",
    "data_points2[...,0] = 100.4 - data_points2[...,0]\n",
    "data_points2 = data_points2[::-1]\n",
    "\n",
    "data_points1[...,1] = data_points1[...,1]/30.00\n",
    "data_points2[...,1] = data_points2[...,1]/30.00\n",
    "\n",
    "\n",
    "data_points = np.vstack((data_points1, data_points2))\n",
    "plt.scatter(data_points[...,0], data_points[...,1])\n",
    "data_points"
   ]
  },
  {
   "cell_type": "code",
   "execution_count": 111,
   "metadata": {},
   "outputs": [
    {
     "name": "stdout",
     "output_type": "stream",
     "text": [
      "[ 5.58229134e-07 -1.99843500e-04  2.69306057e-02 -1.61301661e+00\n",
      "  3.76415759e+01]\n",
      "[ 9.53073645e-07 -5.55317330e-05  1.24517197e-03 -1.69846774e-02\n",
      "  1.64688604e+00]\n"
     ]
    }
   ],
   "source": [
    "coeff1 = np.polyfit(data_points1[...,0], data_points1[...,1], 4)\n",
    "coeff2 = np.polyfit(data_points2[...,0], data_points2[...,1], 4)\n",
    "\n",
    "print(coeff1)\n",
    "print(coeff2)"
   ]
  },
  {
   "cell_type": "code",
   "execution_count": 112,
   "metadata": {},
   "outputs": [],
   "source": [
    "def PolyCoefficients(x, coeffs):\n",
    "    \"\"\" Returns a polynomial for ``x`` for the ``coeffs`` provided.\n",
    "\n",
    "    The coefficients must be in desending order (``x**o``...``x**0``)\n",
    "    \"\"\"\n",
    "    o = len(coeffs)\n",
    "    coeffs = coeffs[::-1]\n",
    "    y = 0\n",
    "    for i in range(o):\n",
    "        y += coeffs[i]*x**i\n",
    "    return y"
   ]
  },
  {
   "cell_type": "code",
   "execution_count": 113,
   "metadata": {},
   "outputs": [],
   "source": [
    "PolyCoefficients(data_points1[...,0], coeff1)\n",
    "x1 = np.linspace(data_points1[0,0], data_points1[-1:,0])\n",
    "x2 = np.linspace(data_points2[0,0], data_points2[-1:,0])"
   ]
  },
  {
   "cell_type": "code",
   "execution_count": 116,
   "metadata": {},
   "outputs": [
    {
     "name": "stdout",
     "output_type": "stream",
     "text": [
      "f1 =  5.58229133990043e-7*x**4 - 0.00019984349955394*x**3 + 0.0269306056551367*x**2 - 1.61301660706959*x + 37.6415758764268\n",
      "\n",
      "[71.3421824344919, 86.9715230449037] \n",
      "\n",
      "\n",
      "f2 =  9.53073645285598e-7*x**4 - 5.55317329531201e-5*x**3 + 0.00124517197024031*x**2 - 0.0169846773572684*x + 1.64688604305746\n",
      "\n",
      "[15.7365571264276, 29.9404690291774] \n",
      "\n",
      "\n"
     ]
    }
   ],
   "source": [
    "x= sm.Symbol('x')\n",
    "y= sm.Symbol('y')\n",
    "f1 = PolyCoefficients(x, coeff1)\n",
    "f2 = PolyCoefficients(x, coeff2)\n",
    "print(\"f1 = \", f1)\n",
    "print()\n",
    "isect1 = sm.solve(f1 - 1.53, x)[:2]\n",
    "print(isect1, '\\n\\n')\n",
    "\n",
    "print(\"f2 = \", f2)\n",
    "print()\n",
    "isect2 = sm.solve(f2 - 1.53, x)[:2]\n",
    "print(isect2, '\\n\\n')"
   ]
  },
  {
   "cell_type": "code",
   "execution_count": 122,
   "metadata": {},
   "outputs": [
    {
     "data": {
      "image/png": "[encoded data removed]",
      "text/plain": [
       "<Figure size 432x288 with 1 Axes>"
      ]
     },
     "metadata": {},
     "output_type": "display_data"
    }
   ],
   "source": [
    "def lineeqn(xo):\n",
    "    return line[0]*xo + line[1]\n",
    "\n",
    "plt.plot(data_points[...,0], data_points[...,1], 'b+')\n",
    "plt.plot(x1, PolyCoefficients(x1, coeff1), 'r')\n",
    "plt.plot(x2, PolyCoefficients(x2, coeff2), 'r')\n",
    "plt.plot([0, 100], [1.53]*2)\n",
    "plt.plot(isect1+isect2, [1.53]*4, 'og')\n",
    "plt.grid()\n",
    "plt.show()"
   ]
  }
 ],
 "metadata": {
  "kernelspec": {
   "display_name": "Python 3",
   "language": "python",
   "name": "python3"
  },
  "language_info": {
   "codemirror_mode": {
    "name": "ipython",
    "version": 3
   },
   "file_extension": ".py",
   "mimetype": "text/x-python",
   "name": "python",
   "nbconvert_exporter": "python",
   "pygments_lexer": "ipython3",
   "version": "3.6.5"
  }
 },
 "nbformat": 4,
 "nbformat_minor": 2
}
